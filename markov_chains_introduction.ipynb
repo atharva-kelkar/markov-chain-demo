{
 "cells": [
  {
   "cell_type": "markdown",
   "id": "e359e32d",
   "metadata": {},
   "source": [
    "## Introduction to Markov Chains!"
   ]
  },
  {
   "cell_type": "markdown",
   "id": "5501803b",
   "metadata": {},
   "source": [
    "This notebook is based on a YouTube video by HarvardX (https://www.youtube.com/watch?v=JHwyHIz6a8A)\n",
    "\n",
    "In this notebook, we will first build a Markov chain model for the five cities shown in the video and study how Markov chains behave. Let's get started!\n",
    "\n",
    "The only thing you need to know to run this notebook is that you press Shift+Enter on any given block (shown in gray) to run it."
   ]
  },
  {
   "cell_type": "markdown",
   "id": "1e253576",
   "metadata": {},
   "source": [
    "#### Step 1 - Import all relevant packages\n",
    "\n",
    "In Python, _packages_ are pieces of software which can perform certain tasks. For the purpose of this activity, we will import two _packages_ - (i) _pandas_ to read Excel files, (ii) _MarkovChain_ to build our Markov chain, and (iii) _matplotlib_ which will allow us to visualize results"
   ]
  },
  {
   "cell_type": "code",
   "execution_count": null,
   "id": "9d584b94",
   "metadata": {},
   "outputs": [],
   "source": [
    "import pandas as pd\n",
    "from markov_chain import MarkovChain\n",
    "import matplotlib.pyplot as plt"
   ]
  },
  {
   "cell_type": "markdown",
   "id": "6911d9bd",
   "metadata": {},
   "source": [
    "#### Step 2 - Fill in the right probabilities\n",
    "\n",
    "1. Open the spreadsheet titled \"mc_probabilities.xlsx\"\n",
    "2. Fill in the probabilities of going from one city to another\n",
    "3. Note down your observations - what can you say about the probability of leaving any one city? How will the probabilities change if the number of flights from one city to the next are different?\n",
    "\n",
    "Once you have filled in the probabilities, we will read in the notebook and define all the cities"
   ]
  },
  {
   "cell_type": "code",
   "execution_count": null,
   "id": "3375b99b",
   "metadata": {},
   "outputs": [],
   "source": [
    "df = pd.read_excel('mc_probabilities.xlsx', header=0, index_col=0)\n",
    "probs = df.to_numpy()\n",
    "cities = ['Averagemont', 'Bayesville', 'Continuopolis', 'Discretown', 'East Vandermonde']"
   ]
  },
  {
   "cell_type": "markdown",
   "id": "c9ef677e",
   "metadata": {},
   "source": [
    "#### Step 3 - Define starting city and number of trips\n",
    "\n",
    "We will now run a \"_simulation_\" of Ana Markov's journey. A simulation is a virtual experiment which will help us study the behavior of Markov chains without having to go on all the journeys with Ana!\n",
    "\n",
    "1. Define the starting city and number of trips that Ana will take\n",
    "2. _Initialize_ a Markov chain simulation based on the cities and probabilities \n",
    "2. Run the _simulation_ - Ana will take the number of trips you decide starting from a city of your choice"
   ]
  },
  {
   "cell_type": "code",
   "execution_count": null,
   "id": "7358bd79",
   "metadata": {},
   "outputs": [],
   "source": [
    "######################################################\n",
    "## This section is for you to change :) ##\n",
    "\n",
    "starting_city = 'Discretown'\n",
    "number_of_trips = 200\n",
    "\n",
    "######################################################\n",
    "\n",
    "# Initialize a simulation\n",
    "mc = MarkovChain( cities, probs )\n",
    "\n",
    "# Run simulation\n",
    "mc.run_simulation( starting_city, number_of_trips )"
   ]
  },
  {
   "cell_type": "markdown",
   "id": "6f3514e9",
   "metadata": {},
   "source": [
    "#### Step 4 - Visualize results\n",
    "\n",
    "Now comes the fun part! You will see how much time Ana spends in each city as she takes more trips\n",
    "\n",
    "*And now also comes the difficult part*.... you will have to answer some questions!\n",
    "\n",
    "1. Can you change the number of trips and see if the time spent by Ana in each city changes?\n",
    "2. Does the starting city matter in Ana's journey?"
   ]
  },
  {
   "cell_type": "code",
   "execution_count": null,
   "id": "1fda8677",
   "metadata": {},
   "outputs": [],
   "source": [
    "%matplotlib nbagg\n",
    "\n",
    "mc.plot_simulation()\n",
    "plt.show()"
   ]
  },
  {
   "cell_type": "code",
   "execution_count": null,
   "id": "12640afe",
   "metadata": {},
   "outputs": [],
   "source": []
  }
 ],
 "metadata": {
  "kernelspec": {
   "display_name": "Python 3 (ipykernel)",
   "language": "python",
   "name": "python3"
  },
  "language_info": {
   "codemirror_mode": {
    "name": "ipython",
    "version": 3
   },
   "file_extension": ".py",
   "mimetype": "text/x-python",
   "name": "python",
   "nbconvert_exporter": "python",
   "pygments_lexer": "ipython3",
   "version": "3.9.10"
  }
 },
 "nbformat": 4,
 "nbformat_minor": 5
}
