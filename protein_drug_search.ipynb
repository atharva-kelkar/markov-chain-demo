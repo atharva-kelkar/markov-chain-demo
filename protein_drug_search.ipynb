{
 "cells": [
  {
   "cell_type": "markdown",
   "id": "4539dd69",
   "metadata": {},
   "source": [
    "## Applying Markov Chains to Drug Discovery!"
   ]
  },
  {
   "cell_type": "markdown",
   "id": "1e0c2a32",
   "metadata": {},
   "source": [
    "Now we will look at applying Markov chains to find a drug to cure a disease. \n",
    "\n",
    "### Background\n",
    "\n",
    "A protein can exist in 3 states as shown below - \n",
    "\n",
    "1. A \"good\" state - in which it performs all of its functions (^_^)\n",
    "2. A \"neutral\" state - the protein does no harm in this state but does not perform its known functions (-_-)\n",
    "3. A \"diseased\" state - the protein in this state causes a disease (⌣̩̩́_⌣̩̩̀)\n",
    "\n",
    "<img src=\"backup_files/protein_mc.png\" style=\"width:275px; height:225px\"> \n",
    "\n",
    "The protein can jump from any one state to another, just like Ana from our previous example! However, there are some twists and turns this time....\n",
    "\n",
    "### Task\n",
    "\n",
    "We wish to study the behaviour of the protein with various drugs administered to the patient\n",
    "\n",
    "What you will do is the following - \n",
    "\n",
    "1. \"_Administer_\" a drug to the protein\n",
    "2. Study how the protein behaves when the drug is administered\n",
    "3. Find out which drug is the best!"
   ]
  },
  {
   "cell_type": "code",
   "execution_count": null,
   "id": "7b369064",
   "metadata": {},
   "outputs": [],
   "source": [
    "import pandas as pd\n",
    "from markov_chain import MarkovChain, ProteinMarkovChain\n",
    "import matplotlib.pyplot as plt"
   ]
  },
  {
   "cell_type": "markdown",
   "id": "9fbeae56",
   "metadata": {},
   "source": [
    "##### Step 1: Administer drug and measure probability of going from one state to another\n",
    "\n",
    "1. We have 3 drug candidates - \"Drug 1\", \"Drug 2\", and \"Drug 3\" (they can not be named by their chemical names since they are still under FDA approval :))\n",
    "2. Change the drug name below to one of the drugs and run the simulation\n",
    "3. The simulation runs using a hidden Markov \"_model_\", that is, we only get access to \"number of jumps\" and not the real probabilities!"
   ]
  },
  {
   "cell_type": "code",
   "execution_count": null,
   "id": "37d321f1",
   "metadata": {},
   "outputs": [],
   "source": [
    "drug_name = 'Drug 3'\n",
    "\n",
    "starting_state = 'Neutral'\n",
    "time = 1000\n",
    "protein_mc = ProteinMarkovChain(drug_name)\n",
    "\n",
    "# Run a simulation with the protein\n",
    "protein_mc.run_model( starting_state, time=time)\n",
    "\n",
    "print('\\nThe number of jumps from the model simulation are given in the table below (rows are from state, columns are to state)')\n",
    "\n",
    "protein_mc.dataframe"
   ]
  },
  {
   "cell_type": "code",
   "execution_count": null,
   "id": "b19b24e7",
   "metadata": {},
   "outputs": [],
   "source": [
    "df = pd.read_excel('drug_probabilities.xlsx', header=0, index_col=0)\n",
    "probs = df.to_numpy()\n",
    "\n",
    "states = ['Good', 'Neutral', 'Diseased']\n",
    "\n",
    "######################################################\n",
    "## This section is for you to change :) ##\n",
    "\n",
    "starting_state = 'Good'\n",
    "time = 200\n",
    "\n",
    "######################################################\n",
    "\n",
    "\n",
    "# Initialize a simulation\n",
    "drug_mc = MarkovChain( states, probs, drug_sim=True )\n",
    "\n",
    "# Run simulation\n",
    "drug_mc.run_simulation( starting_state, time )\n",
    "\n",
    "# Analyze results\n",
    "%matplotlib nbagg\n",
    "\n",
    "drug_mc.plot_simulation()\n",
    "plt.show()"
   ]
  },
  {
   "cell_type": "code",
   "execution_count": null,
   "id": "1b47c7cb",
   "metadata": {},
   "outputs": [],
   "source": []
  }
 ],
 "metadata": {
  "kernelspec": {
   "display_name": "Python 3 (ipykernel)",
   "language": "python",
   "name": "python3"
  },
  "language_info": {
   "codemirror_mode": {
    "name": "ipython",
    "version": 3
   },
   "file_extension": ".py",
   "mimetype": "text/x-python",
   "name": "python",
   "nbconvert_exporter": "python",
   "pygments_lexer": "ipython3",
   "version": "3.9.10"
  }
 },
 "nbformat": 4,
 "nbformat_minor": 5
}
